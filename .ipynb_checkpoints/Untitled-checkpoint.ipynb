{
 "cells": [
  {
   "cell_type": "markdown",
   "metadata": {},
   "source": [
    "# 1. Get and load the data"
   ]
  },
  {
   "cell_type": "code",
   "execution_count": 1,
   "metadata": {
    "collapsed": false
   },
   "outputs": [
    {
     "name": "stdout",
     "output_type": "stream",
     "text": [
      "SepalLength: [ 5.1  4.9  4.7  4.6  5.   5.4  4.6  5.   4.4  4.9  5.4  4.8  4.8  4.3  5.8\n",
      "  5.7  5.4  5.1  5.7  5.1  5.4  5.1  4.6  5.1  4.8  5.   5.   5.2  5.2  4.7\n",
      "  4.8  5.4  5.2  5.5  4.9  5.   5.5  4.9  4.4  5.1  5.   4.5  4.4  5.   5.1\n",
      "  4.8  5.1  4.6  5.3  5.   7.   6.4  6.9  5.5  6.5  5.7  6.3  4.9  6.6  5.2\n",
      "  5.   5.9  6.   6.1  5.6  6.7  5.6  5.8  6.2  5.6  5.9  6.1  6.3  6.1  6.4\n",
      "  6.6  6.8  6.7  6.   5.7  5.5  5.5  5.8  6.   5.4  6.   6.7  6.3  5.6  5.5\n",
      "  5.5  6.1  5.8  5.   5.6  5.7  5.7  6.2  5.1  5.7  6.3  5.8  7.1  6.3  6.5\n",
      "  7.6  4.9  7.3  6.7  7.2  6.5  6.4  6.8  5.7  5.8  6.4  6.5  7.7  7.7  6.\n",
      "  6.9  5.6  7.7  6.3  6.7  7.2  6.2  6.1  6.4  7.2  7.4  7.9  6.4  6.3  6.1\n",
      "  7.7  6.3  6.4  6.   6.9  6.7  6.9  5.8  6.8  6.7  6.7  6.3  6.5  6.2  5.9] \n",
      "SepalWidth: [ 3.5  3.   3.2  3.1  3.6  3.9  3.4  3.4  2.9  3.1  3.7  3.4  3.   3.   4.\n",
      "  4.4  3.9  3.5  3.8  3.8  3.4  3.7  3.6  3.3  3.4  3.   3.4  3.5  3.4  3.2\n",
      "  3.1  3.4  4.1  4.2  3.1  3.2  3.5  3.6  3.   3.4  3.5  2.3  3.2  3.5  3.8\n",
      "  3.   3.8  3.2  3.7  3.3  3.2  3.2  3.1  2.3  2.8  2.8  3.3  2.4  2.9  2.7\n",
      "  2.   3.   2.2  2.9  2.9  3.1  3.   2.7  2.2  2.5  3.2  2.8  2.5  2.8  2.9\n",
      "  3.   2.8  3.   2.9  2.6  2.4  2.4  2.7  2.7  3.   3.4  3.1  2.3  3.   2.5\n",
      "  2.6  3.   2.6  2.3  2.7  3.   2.9  2.9  2.5  2.8  3.3  2.7  3.   2.9  3.\n",
      "  3.   2.5  2.9  2.5  3.6  3.2  2.7  3.   2.5  2.8  3.2  3.   3.8  2.6  2.2\n",
      "  3.2  2.8  2.8  2.7  3.3  3.2  2.8  3.   2.8  3.   2.8  3.8  2.8  2.8  2.6\n",
      "  3.   3.4  3.1  3.   3.1  3.1  3.1  2.7  3.2  3.3  3.   2.5  3.   3.4  3. ] \n",
      "PetalLength: [ 1.4  1.4  1.3  1.5  1.4  1.7  1.4  1.5  1.4  1.5  1.5  1.6  1.4  1.1  1.2\n",
      "  1.5  1.3  1.4  1.7  1.5  1.7  1.5  1.   1.7  1.9  1.6  1.6  1.5  1.4  1.6\n",
      "  1.6  1.5  1.5  1.4  1.5  1.2  1.3  1.4  1.3  1.5  1.3  1.3  1.3  1.6  1.9\n",
      "  1.4  1.6  1.4  1.5  1.4  4.7  4.5  4.9  4.   4.6  4.5  4.7  3.3  4.6  3.9\n",
      "  3.5  4.2  4.   4.7  3.6  4.4  4.5  4.1  4.5  3.9  4.8  4.   4.9  4.7  4.3\n",
      "  4.4  4.8  5.   4.5  3.5  3.8  3.7  3.9  5.1  4.5  4.5  4.7  4.4  4.1  4.\n",
      "  4.4  4.6  4.   3.3  4.2  4.2  4.2  4.3  3.   4.1  6.   5.1  5.9  5.6  5.8\n",
      "  6.6  4.5  6.3  5.8  6.1  5.1  5.3  5.5  5.   5.1  5.3  5.5  6.7  6.9  5.\n",
      "  5.7  4.9  6.7  4.9  5.7  6.   4.8  4.9  5.6  5.8  6.1  6.4  5.6  5.1  5.6\n",
      "  6.1  5.6  5.5  4.8  5.4  5.6  5.1  5.1  5.9  5.7  5.2  5.   5.2  5.4  5.1] \n",
      "PetalWidth: [ 0.2  0.2  0.2  0.2  0.2  0.4  0.3  0.2  0.2  0.1  0.2  0.2  0.1  0.1  0.2\n",
      "  0.4  0.4  0.3  0.3  0.3  0.2  0.4  0.2  0.5  0.2  0.2  0.4  0.2  0.2  0.2\n",
      "  0.2  0.4  0.1  0.2  0.2  0.2  0.2  0.1  0.2  0.2  0.3  0.3  0.2  0.6  0.4\n",
      "  0.3  0.2  0.2  0.2  0.2  1.4  1.5  1.5  1.3  1.5  1.3  1.6  1.   1.3  1.4\n",
      "  1.   1.5  1.   1.4  1.3  1.4  1.5  1.   1.5  1.1  1.8  1.3  1.5  1.2  1.3\n",
      "  1.4  1.4  1.7  1.5  1.   1.1  1.   1.2  1.6  1.5  1.6  1.5  1.3  1.3  1.3\n",
      "  1.2  1.4  1.2  1.   1.3  1.2  1.3  1.3  1.1  1.3  2.5  1.9  2.1  1.8  2.2\n",
      "  2.1  1.7  1.8  1.8  2.5  2.   1.9  2.1  2.   2.4  2.3  1.8  2.2  2.3  1.5\n",
      "  2.3  2.   2.   1.8  2.1  1.8  1.8  1.8  2.1  1.6  1.9  2.   2.2  1.5  1.4\n",
      "  2.3  2.4  1.8  1.8  2.1  2.4  2.3  1.9  2.3  2.5  2.3  1.9  2.   2.3  1.8] \n",
      "Species: [b'setosa' b'setosa' b'setosa' b'setosa' b'setosa' b'setosa' b'setosa'\n",
      " b'setosa' b'setosa' b'setosa' b'setosa' b'setosa' b'setosa' b'setosa'\n",
      " b'setosa' b'setosa' b'setosa' b'setosa' b'setosa' b'setosa' b'setosa'\n",
      " b'setosa' b'setosa' b'setosa' b'setosa' b'setosa' b'setosa' b'setosa'\n",
      " b'setosa' b'setosa' b'setosa' b'setosa' b'setosa' b'setosa' b'setosa'\n",
      " b'setosa' b'setosa' b'setosa' b'setosa' b'setosa' b'setosa' b'setosa'\n",
      " b'setosa' b'setosa' b'setosa' b'setosa' b'setosa' b'setosa' b'setosa'\n",
      " b'setosa' b'versicolor' b'versicolor' b'versicolor' b'versicolor'\n",
      " b'versicolor' b'versicolor' b'versicolor' b'versicolor' b'versicolor'\n",
      " b'versicolor' b'versicolor' b'versicolor' b'versicolor' b'versicolor'\n",
      " b'versicolor' b'versicolor' b'versicolor' b'versicolor' b'versicolor'\n",
      " b'versicolor' b'versicolor' b'versicolor' b'versicolor' b'versicolor'\n",
      " b'versicolor' b'versicolor' b'versicolor' b'versicolor' b'versicolor'\n",
      " b'versicolor' b'versicolor' b'versicolor' b'versicolor' b'versicolor'\n",
      " b'versicolor' b'versicolor' b'versicolor' b'versicolor' b'versicolor'\n",
      " b'versicolor' b'versicolor' b'versicolor' b'versicolor' b'versicolor'\n",
      " b'versicolor' b'versicolor' b'versicolor' b'versicolor' b'versicolor'\n",
      " b'versicolor' b'virginica' b'virginica' b'virginica' b'virginica'\n",
      " b'virginica' b'virginica' b'virginica' b'virginica' b'virginica'\n",
      " b'virginica' b'virginica' b'virginica' b'virginica' b'virginica'\n",
      " b'virginica' b'virginica' b'virginica' b'virginica' b'virginica'\n",
      " b'virginica' b'virginica' b'virginica' b'virginica' b'virginica'\n",
      " b'virginica' b'virginica' b'virginica' b'virginica' b'virginica'\n",
      " b'virginica' b'virginica' b'virginica' b'virginica' b'virginica'\n",
      " b'virginica' b'virginica' b'virginica' b'virginica' b'virginica'\n",
      " b'virginica' b'virginica' b'virginica' b'virginica' b'virginica'\n",
      " b'virginica' b'virginica' b'virginica' b'virginica' b'virginica'\n",
      " b'virginica'] \n"
     ]
    }
   ],
   "source": [
    "#http://www.tenpay.tech/questions/841382/read-csv-file-to-numpy-array-first-row-as-strings-rest-as-float\n",
    "import numpy as np\n",
    "\n",
    "data = np.genfromtxt('iris.csv', delimiter=',', names=True, dtype='float,float,float,float,|S11')\n",
    "print('SepalLength: %s ' % data['sepalLength'])\n",
    "print('SepalWidth: %s ' % data['sepalWidth'])\n",
    "print('PetalLength: %s ' % data['petalLength'])\n",
    "print('PetalWidth: %s ' % data['petalWidth'])\n",
    "print('Species: %s ' % data['species'])\n",
    "\n"
   ]
  }
 ],
 "metadata": {
  "anaconda-cloud": {},
  "kernelspec": {
   "display_name": "Python [Root]",
   "language": "python",
   "name": "Python [Root]"
  },
  "language_info": {
   "codemirror_mode": {
    "name": "ipython",
    "version": 3
   },
   "file_extension": ".py",
   "mimetype": "text/x-python",
   "name": "python",
   "nbconvert_exporter": "python",
   "pygments_lexer": "ipython3",
   "version": "3.5.2"
  }
 },
 "nbformat": 4,
 "nbformat_minor": 0
}
